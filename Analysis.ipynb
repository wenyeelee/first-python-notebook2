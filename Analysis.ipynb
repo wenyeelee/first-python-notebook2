{
 "cells": [
  {
   "cell_type": "code",
   "execution_count": 12,
   "metadata": {
    "collapsed": true
   },
   "outputs": [],
   "source": [
    "import pandas as pd"
   ]
  },
  {
   "cell_type": "code",
   "execution_count": 9,
   "metadata": {
    "collapsed": true
   },
   "outputs": [],
   "source": [
    "def combine_names (row):\n",
    "    if row.contributor_lastname.startwith [\"PARKER\"]:\n",
    "        return \"PARKER\"return row.contributor_lastname"
   ]
  },
  {
   "cell_type": "markdown",
   "metadata": {},
   "source": [
    "# Load the data"
   ]
  },
  {
   "cell_type": "code",
   "execution_count": 3,
   "metadata": {
    "collapsed": true
   },
   "outputs": [],
   "source": [
    "props = pd.read_csv(\"http://www.firstpythonnotebook.org/_static/committees.csv\")"
   ]
  },
  {
   "cell_type": "code",
   "execution_count": 9,
   "metadata": {},
   "outputs": [
    {
     "data": {
      "text/html": [
       "<div>\n",
       "<style>\n",
       "    .dataframe thead tr:only-child th {\n",
       "        text-align: right;\n",
       "    }\n",
       "\n",
       "    .dataframe thead th {\n",
       "        text-align: left;\n",
       "    }\n",
       "\n",
       "    .dataframe tbody tr th {\n",
       "        vertical-align: top;\n",
       "    }\n",
       "</style>\n",
       "<table border=\"1\" class=\"dataframe\">\n",
       "  <thead>\n",
       "    <tr style=\"text-align: right;\">\n",
       "      <th></th>\n",
       "      <th>ocd_prop_id</th>\n",
       "      <th>calaccess_prop_id</th>\n",
       "      <th>ccdc_prop_id</th>\n",
       "      <th>prop_name</th>\n",
       "      <th>ccdc_committee_id</th>\n",
       "      <th>calaccess_committee_id</th>\n",
       "      <th>committee_name</th>\n",
       "      <th>committee_position</th>\n",
       "    </tr>\n",
       "  </thead>\n",
       "  <tbody>\n",
       "    <tr>\n",
       "      <th>0</th>\n",
       "      <td>ocd-contest/b51dc64d-3562-4913-a190-69f5088c22a6</td>\n",
       "      <td>1376258</td>\n",
       "      <td>70</td>\n",
       "      <td>PROPOSITION 051 - SCHOOL BONDS. FUNDING FOR K-...</td>\n",
       "      <td>382</td>\n",
       "      <td>1374469</td>\n",
       "      <td>YES ON PROPOSITION 51 - CALIFORNIANS FOR QUALI...</td>\n",
       "      <td>SUPPORT</td>\n",
       "    </tr>\n",
       "    <tr>\n",
       "      <th>1</th>\n",
       "      <td>ocd-contest/b51dc64d-3562-4913-a190-69f5088c22a6</td>\n",
       "      <td>1376258</td>\n",
       "      <td>70</td>\n",
       "      <td>PROPOSITION 051 - SCHOOL BONDS. FUNDING FOR K-...</td>\n",
       "      <td>383</td>\n",
       "      <td>1220380</td>\n",
       "      <td>COMMUNITY COLLEGE FACILITY COALITION ISSUES CO...</td>\n",
       "      <td>SUPPORT</td>\n",
       "    </tr>\n",
       "    <tr>\n",
       "      <th>2</th>\n",
       "      <td>ocd-contest/b51dc64d-3562-4913-a190-69f5088c22a6</td>\n",
       "      <td>1376258</td>\n",
       "      <td>70</td>\n",
       "      <td>PROPOSITION 051 - SCHOOL BONDS. FUNDING FOR K-...</td>\n",
       "      <td>384</td>\n",
       "      <td>1282321</td>\n",
       "      <td>TORLAKSON'S INVEST IN CALIFORNIA A BALLOT MEAS...</td>\n",
       "      <td>SUPPORT</td>\n",
       "    </tr>\n",
       "  </tbody>\n",
       "</table>\n",
       "</div>"
      ],
      "text/plain": [
       "                                        ocd_prop_id  calaccess_prop_id  \\\n",
       "0  ocd-contest/b51dc64d-3562-4913-a190-69f5088c22a6            1376258   \n",
       "1  ocd-contest/b51dc64d-3562-4913-a190-69f5088c22a6            1376258   \n",
       "2  ocd-contest/b51dc64d-3562-4913-a190-69f5088c22a6            1376258   \n",
       "\n",
       "   ccdc_prop_id                                          prop_name  \\\n",
       "0            70  PROPOSITION 051 - SCHOOL BONDS. FUNDING FOR K-...   \n",
       "1            70  PROPOSITION 051 - SCHOOL BONDS. FUNDING FOR K-...   \n",
       "2            70  PROPOSITION 051 - SCHOOL BONDS. FUNDING FOR K-...   \n",
       "\n",
       "   ccdc_committee_id  calaccess_committee_id  \\\n",
       "0                382                 1374469   \n",
       "1                383                 1220380   \n",
       "2                384                 1282321   \n",
       "\n",
       "                                      committee_name committee_position  \n",
       "0  YES ON PROPOSITION 51 - CALIFORNIANS FOR QUALI...            SUPPORT  \n",
       "1  COMMUNITY COLLEGE FACILITY COALITION ISSUES CO...            SUPPORT  \n",
       "2  TORLAKSON'S INVEST IN CALIFORNIA A BALLOT MEAS...            SUPPORT  "
      ]
     },
     "execution_count": 9,
     "metadata": {},
     "output_type": "execute_result"
    }
   ],
   "source": [
    "props.head(3)"
   ]
  },
  {
   "cell_type": "code",
   "execution_count": null,
   "metadata": {
    "collapsed": true
   },
   "outputs": [],
   "source": []
  },
  {
   "cell_type": "code",
   "execution_count": 11,
   "metadata": {
    "collapsed": true
   },
   "outputs": [],
   "source": [
    "contribs = pd.read_csv(\"http://www.firstpythonnotebook.org/_static/contributions.csv\")"
   ]
  },
  {
   "cell_type": "code",
   "execution_count": 12,
   "metadata": {},
   "outputs": [
    {
     "data": {
      "text/html": [
       "<div>\n",
       "<style>\n",
       "    .dataframe thead tr:only-child th {\n",
       "        text-align: right;\n",
       "    }\n",
       "\n",
       "    .dataframe thead th {\n",
       "        text-align: left;\n",
       "    }\n",
       "\n",
       "    .dataframe tbody tr th {\n",
       "        vertical-align: top;\n",
       "    }\n",
       "</style>\n",
       "<table border=\"1\" class=\"dataframe\">\n",
       "  <thead>\n",
       "    <tr style=\"text-align: right;\">\n",
       "      <th></th>\n",
       "      <th>calaccess_committee_id</th>\n",
       "      <th>committee_name</th>\n",
       "      <th>calaccess_filing_id</th>\n",
       "      <th>date_received</th>\n",
       "      <th>contributor_lastname</th>\n",
       "      <th>contributor_firstname</th>\n",
       "      <th>contributor_city</th>\n",
       "      <th>contributor_state</th>\n",
       "      <th>contributor_zip</th>\n",
       "      <th>contributor_employer</th>\n",
       "      <th>contributor_occupation</th>\n",
       "      <th>contributor_is_self_employed</th>\n",
       "      <th>amount</th>\n",
       "    </tr>\n",
       "  </thead>\n",
       "  <tbody>\n",
       "    <tr>\n",
       "      <th>0</th>\n",
       "      <td>1386560</td>\n",
       "      <td>ADULT USE CAMPAIGN FOR PROPOSITION 64; THE</td>\n",
       "      <td>2083796</td>\n",
       "      <td>2016-09-18</td>\n",
       "      <td>BERGMAN</td>\n",
       "      <td>GRETCHEN</td>\n",
       "      <td>SPRING VALLEY</td>\n",
       "      <td>CA</td>\n",
       "      <td>91978</td>\n",
       "      <td>A NEW PATH</td>\n",
       "      <td>EXECUTIVE DIRECTOR</td>\n",
       "      <td>False</td>\n",
       "      <td>84.0</td>\n",
       "    </tr>\n",
       "    <tr>\n",
       "      <th>1</th>\n",
       "      <td>1386560</td>\n",
       "      <td>ADULT USE CAMPAIGN FOR PROPOSITION 64; THE</td>\n",
       "      <td>2083796</td>\n",
       "      <td>2016-09-18</td>\n",
       "      <td>KAHLE</td>\n",
       "      <td>MYRNA</td>\n",
       "      <td>SAN DIEGO</td>\n",
       "      <td>CA</td>\n",
       "      <td>92109</td>\n",
       "      <td>NATIONAL SCHOOL DISTRICT</td>\n",
       "      <td>TEACHER</td>\n",
       "      <td>False</td>\n",
       "      <td>35.0</td>\n",
       "    </tr>\n",
       "    <tr>\n",
       "      <th>2</th>\n",
       "      <td>1386560</td>\n",
       "      <td>ADULT USE CAMPAIGN FOR PROPOSITION 64; THE</td>\n",
       "      <td>2083796</td>\n",
       "      <td>2016-07-15</td>\n",
       "      <td>MCDEVITT</td>\n",
       "      <td>LEO</td>\n",
       "      <td>ESCONDIDO</td>\n",
       "      <td>CA</td>\n",
       "      <td>92025</td>\n",
       "      <td>LIFE IONIZERS</td>\n",
       "      <td>SEO/CONTENT MANAGER</td>\n",
       "      <td>False</td>\n",
       "      <td>198.0</td>\n",
       "    </tr>\n",
       "    <tr>\n",
       "      <th>3</th>\n",
       "      <td>1386560</td>\n",
       "      <td>ADULT USE CAMPAIGN FOR PROPOSITION 64; THE</td>\n",
       "      <td>2083796</td>\n",
       "      <td>2016-08-10</td>\n",
       "      <td>WARREN-SAMARIPA</td>\n",
       "      <td>STEPHANIE</td>\n",
       "      <td>SAN DIEGO</td>\n",
       "      <td>CA</td>\n",
       "      <td>92116</td>\n",
       "      <td>STEPHANIE WARREN SAMARIPA</td>\n",
       "      <td>ENTREPRENEUR</td>\n",
       "      <td>False</td>\n",
       "      <td>-50.0</td>\n",
       "    </tr>\n",
       "    <tr>\n",
       "      <th>4</th>\n",
       "      <td>1386560</td>\n",
       "      <td>ADULT USE CAMPAIGN FOR PROPOSITION 64; THE</td>\n",
       "      <td>2083796</td>\n",
       "      <td>2016-07-26</td>\n",
       "      <td>WARREN-SAMARIPA</td>\n",
       "      <td>STEPHANIE</td>\n",
       "      <td>SAN DIEGO</td>\n",
       "      <td>CA</td>\n",
       "      <td>92116</td>\n",
       "      <td>STEPHANIE WARREN SAMARIPA</td>\n",
       "      <td>ENTREPRENEUR</td>\n",
       "      <td>True</td>\n",
       "      <td>50.0</td>\n",
       "    </tr>\n",
       "  </tbody>\n",
       "</table>\n",
       "</div>"
      ],
      "text/plain": [
       "   calaccess_committee_id                              committee_name  \\\n",
       "0                 1386560  ADULT USE CAMPAIGN FOR PROPOSITION 64; THE   \n",
       "1                 1386560  ADULT USE CAMPAIGN FOR PROPOSITION 64; THE   \n",
       "2                 1386560  ADULT USE CAMPAIGN FOR PROPOSITION 64; THE   \n",
       "3                 1386560  ADULT USE CAMPAIGN FOR PROPOSITION 64; THE   \n",
       "4                 1386560  ADULT USE CAMPAIGN FOR PROPOSITION 64; THE   \n",
       "\n",
       "   calaccess_filing_id date_received contributor_lastname  \\\n",
       "0              2083796    2016-09-18              BERGMAN   \n",
       "1              2083796    2016-09-18                KAHLE   \n",
       "2              2083796    2016-07-15             MCDEVITT   \n",
       "3              2083796    2016-08-10      WARREN-SAMARIPA   \n",
       "4              2083796    2016-07-26      WARREN-SAMARIPA   \n",
       "\n",
       "  contributor_firstname contributor_city contributor_state contributor_zip  \\\n",
       "0              GRETCHEN    SPRING VALLEY                CA           91978   \n",
       "1                 MYRNA        SAN DIEGO                CA           92109   \n",
       "2                   LEO        ESCONDIDO                CA           92025   \n",
       "3             STEPHANIE        SAN DIEGO                CA           92116   \n",
       "4             STEPHANIE        SAN DIEGO                CA           92116   \n",
       "\n",
       "        contributor_employer contributor_occupation  \\\n",
       "0                 A NEW PATH     EXECUTIVE DIRECTOR   \n",
       "1   NATIONAL SCHOOL DISTRICT                TEACHER   \n",
       "2              LIFE IONIZERS    SEO/CONTENT MANAGER   \n",
       "3  STEPHANIE WARREN SAMARIPA           ENTREPRENEUR   \n",
       "4  STEPHANIE WARREN SAMARIPA           ENTREPRENEUR   \n",
       "\n",
       "   contributor_is_self_employed  amount  \n",
       "0                         False    84.0  \n",
       "1                         False    35.0  \n",
       "2                         False   198.0  \n",
       "3                         False   -50.0  \n",
       "4                          True    50.0  "
      ]
     },
     "execution_count": 12,
     "metadata": {},
     "output_type": "execute_result"
    }
   ],
   "source": [
    "contribs.head()"
   ]
  },
  {
   "cell_type": "code",
   "execution_count": 13,
   "metadata": {},
   "outputs": [
    {
     "name": "stdout",
     "output_type": "stream",
     "text": [
      "<class 'pandas.core.frame.DataFrame'>\n",
      "RangeIndex: 56379 entries, 0 to 56378\n",
      "Data columns (total 13 columns):\n",
      "calaccess_committee_id          56379 non-null int64\n",
      "committee_name                  56379 non-null object\n",
      "calaccess_filing_id             56379 non-null int64\n",
      "date_received                   56379 non-null object\n",
      "contributor_lastname            56375 non-null object\n",
      "contributor_firstname           53411 non-null object\n",
      "contributor_city                56369 non-null object\n",
      "contributor_state               56363 non-null object\n",
      "contributor_zip                 56366 non-null object\n",
      "contributor_employer            48572 non-null object\n",
      "contributor_occupation          53273 non-null object\n",
      "contributor_is_self_employed    56379 non-null bool\n",
      "amount                          56379 non-null float64\n",
      "dtypes: bool(1), float64(1), int64(2), object(9)\n",
      "memory usage: 5.2+ MB\n"
     ]
    }
   ],
   "source": [
    "contribs.info()"
   ]
  },
  {
   "cell_type": "markdown",
   "metadata": {},
   "source": [
    "# Overall contributions"
   ]
  },
  {
   "cell_type": "code",
   "execution_count": 14,
   "metadata": {},
   "outputs": [
    {
     "data": {
      "text/plain": [
       "408980909.53999996"
      ]
     },
     "execution_count": 14,
     "metadata": {},
     "output_type": "execute_result"
    }
   ],
   "source": [
    "contribs.amount.sum()"
   ]
  },
  {
   "cell_type": "code",
   "execution_count": 15,
   "metadata": {},
   "outputs": [
    {
     "data": {
      "text/plain": [
       "count    5.637900e+04\n",
       "mean     7.254136e+03\n",
       "std      1.588498e+05\n",
       "min     -1.500000e+05\n",
       "25%      1.000000e+02\n",
       "50%      2.870800e+02\n",
       "75%      2.870800e+02\n",
       "max      1.250000e+07\n",
       "Name: amount, dtype: float64"
      ]
     },
     "execution_count": 15,
     "metadata": {},
     "output_type": "execute_result"
    }
   ],
   "source": [
    "contribs.amount.describe()"
   ]
  },
  {
   "cell_type": "code",
   "execution_count": 16,
   "metadata": {},
   "outputs": [
    {
     "data": {
      "text/plain": [
       "7254.135574238634"
      ]
     },
     "execution_count": 16,
     "metadata": {},
     "output_type": "execute_result"
    }
   ],
   "source": [
    "contribs.amount.mean()"
   ]
  },
  {
   "cell_type": "code",
   "execution_count": 17,
   "metadata": {},
   "outputs": [
    {
     "data": {
      "text/plain": [
       "12500000.0"
      ]
     },
     "execution_count": 17,
     "metadata": {},
     "output_type": "execute_result"
    }
   ],
   "source": [
    "contribs.amount.max()"
   ]
  },
  {
   "cell_type": "code",
   "execution_count": 19,
   "metadata": {},
   "outputs": [
    {
     "data": {
      "text/html": [
       "<div>\n",
       "<style>\n",
       "    .dataframe thead tr:only-child th {\n",
       "        text-align: right;\n",
       "    }\n",
       "\n",
       "    .dataframe thead th {\n",
       "        text-align: left;\n",
       "    }\n",
       "\n",
       "    .dataframe tbody tr th {\n",
       "        vertical-align: top;\n",
       "    }\n",
       "</style>\n",
       "<table border=\"1\" class=\"dataframe\">\n",
       "  <thead>\n",
       "    <tr style=\"text-align: right;\">\n",
       "      <th></th>\n",
       "      <th>index</th>\n",
       "      <th>prop_name</th>\n",
       "    </tr>\n",
       "  </thead>\n",
       "  <tbody>\n",
       "    <tr>\n",
       "      <th>0</th>\n",
       "      <td>PROPOSITION 057 - CRIMINAL SENTENCES. JUVENILE...</td>\n",
       "      <td>13</td>\n",
       "    </tr>\n",
       "    <tr>\n",
       "      <th>1</th>\n",
       "      <td>PROPOSITION 056 - CIGARETTE TAX TO FUND HEALTH...</td>\n",
       "      <td>12</td>\n",
       "    </tr>\n",
       "    <tr>\n",
       "      <th>2</th>\n",
       "      <td>PROPOSITION 064- MARIJUANA LEGALIZATION. INITI...</td>\n",
       "      <td>11</td>\n",
       "    </tr>\n",
       "    <tr>\n",
       "      <th>3</th>\n",
       "      <td>PROPOSITION 066- DEATH PENALTY. PROCEDURES. IN...</td>\n",
       "      <td>9</td>\n",
       "    </tr>\n",
       "    <tr>\n",
       "      <th>4</th>\n",
       "      <td>PROPOSITION 055 - TAX EXTENSION TO FUND EDUCAT...</td>\n",
       "      <td>8</td>\n",
       "    </tr>\n",
       "    <tr>\n",
       "      <th>5</th>\n",
       "      <td>PROPOSITION 067- REFERENDUM TO OVERTURN BAN ON...</td>\n",
       "      <td>7</td>\n",
       "    </tr>\n",
       "    <tr>\n",
       "      <th>6</th>\n",
       "      <td>PROPOSITION 062- DEATH PENALTY. INITIATIVE STA...</td>\n",
       "      <td>7</td>\n",
       "    </tr>\n",
       "    <tr>\n",
       "      <th>7</th>\n",
       "      <td>PROPOSITION 059- SB 254 (CHAPTER 20, STATUTES ...</td>\n",
       "      <td>6</td>\n",
       "    </tr>\n",
       "    <tr>\n",
       "      <th>8</th>\n",
       "      <td>PROPOSITION 053 - REVENUE BONDS. STATEWIDE VOT...</td>\n",
       "      <td>4</td>\n",
       "    </tr>\n",
       "    <tr>\n",
       "      <th>9</th>\n",
       "      <td>PROPOSITION 054 - LEGISLATURE. LEGISLATION AND...</td>\n",
       "      <td>4</td>\n",
       "    </tr>\n",
       "    <tr>\n",
       "      <th>10</th>\n",
       "      <td>PROPOSITION 058 - SB 1174 (CHAPTER 753, STATUT...</td>\n",
       "      <td>4</td>\n",
       "    </tr>\n",
       "    <tr>\n",
       "      <th>11</th>\n",
       "      <td>PROPOSITION 063- FIREARMS. AMMUNITION SALES. I...</td>\n",
       "      <td>4</td>\n",
       "    </tr>\n",
       "    <tr>\n",
       "      <th>12</th>\n",
       "      <td>PROPOSITION 051 - SCHOOL BONDS. FUNDING FOR K-...</td>\n",
       "      <td>4</td>\n",
       "    </tr>\n",
       "    <tr>\n",
       "      <th>13</th>\n",
       "      <td>PROPOSITION 052 - STATE FEES ON HOSPITALS. FED...</td>\n",
       "      <td>3</td>\n",
       "    </tr>\n",
       "    <tr>\n",
       "      <th>14</th>\n",
       "      <td>PROPOSITION 061- STATE PRESCRIPTION DRUG PURCH...</td>\n",
       "      <td>3</td>\n",
       "    </tr>\n",
       "    <tr>\n",
       "      <th>15</th>\n",
       "      <td>PROPOSITION 060- ADULT FILMS. CONDOMS. HEALTH ...</td>\n",
       "      <td>2</td>\n",
       "    </tr>\n",
       "    <tr>\n",
       "      <th>16</th>\n",
       "      <td>PROPOSITION 065- CARRY-OUT BAGS. CHARGES. INIT...</td>\n",
       "      <td>1</td>\n",
       "    </tr>\n",
       "  </tbody>\n",
       "</table>\n",
       "</div>"
      ],
      "text/plain": [
       "                                                index  prop_name\n",
       "0   PROPOSITION 057 - CRIMINAL SENTENCES. JUVENILE...         13\n",
       "1   PROPOSITION 056 - CIGARETTE TAX TO FUND HEALTH...         12\n",
       "2   PROPOSITION 064- MARIJUANA LEGALIZATION. INITI...         11\n",
       "3   PROPOSITION 066- DEATH PENALTY. PROCEDURES. IN...          9\n",
       "4   PROPOSITION 055 - TAX EXTENSION TO FUND EDUCAT...          8\n",
       "5   PROPOSITION 067- REFERENDUM TO OVERTURN BAN ON...          7\n",
       "6   PROPOSITION 062- DEATH PENALTY. INITIATIVE STA...          7\n",
       "7   PROPOSITION 059- SB 254 (CHAPTER 20, STATUTES ...          6\n",
       "8   PROPOSITION 053 - REVENUE BONDS. STATEWIDE VOT...          4\n",
       "9   PROPOSITION 054 - LEGISLATURE. LEGISLATION AND...          4\n",
       "10  PROPOSITION 058 - SB 1174 (CHAPTER 753, STATUT...          4\n",
       "11  PROPOSITION 063- FIREARMS. AMMUNITION SALES. I...          4\n",
       "12  PROPOSITION 051 - SCHOOL BONDS. FUNDING FOR K-...          4\n",
       "13  PROPOSITION 052 - STATE FEES ON HOSPITALS. FED...          3\n",
       "14  PROPOSITION 061- STATE PRESCRIPTION DRUG PURCH...          3\n",
       "15  PROPOSITION 060- ADULT FILMS. CONDOMS. HEALTH ...          2\n",
       "16  PROPOSITION 065- CARRY-OUT BAGS. CHARGES. INIT...          1"
      ]
     },
     "execution_count": 19,
     "metadata": {},
     "output_type": "execute_result"
    }
   ],
   "source": [
    "props.prop_name.value_counts().reset_index()"
   ]
  },
  {
   "cell_type": "code",
   "execution_count": null,
   "metadata": {
    "collapsed": true
   },
   "outputs": [],
   "source": []
  }
 ],
 "metadata": {
  "kernelspec": {
   "display_name": "Python 2",
   "language": "python",
   "name": "python2"
  },
  "language_info": {
   "codemirror_mode": {
    "name": "ipython",
    "version": 2
   },
   "file_extension": ".py",
   "mimetype": "text/x-python",
   "name": "python",
   "nbconvert_exporter": "python",
   "pygments_lexer": "ipython2",
   "version": "2.7.10"
  }
 },
 "nbformat": 4,
 "nbformat_minor": 2
}
